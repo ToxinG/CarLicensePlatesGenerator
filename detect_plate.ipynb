{
 "cells": [
  {
   "cell_type": "markdown",
   "metadata": {},
   "source": [
    "# Plate detection"
   ]
  },
  {
   "cell_type": "code",
   "execution_count": 10,
   "metadata": {},
   "outputs": [],
   "source": [
    "import os\n",
    "os.environ['CUDA_VISIBLE_DEVICES']='2'"
   ]
  },
  {
   "cell_type": "code",
   "execution_count": 11,
   "metadata": {},
   "outputs": [],
   "source": [
    "import sys\n",
    "import random\n",
    "import math\n",
    "import re\n",
    "import time\n",
    "import numpy as np\n",
    "import cv2\n",
    "import skimage\n",
    "import matplotlib\n",
    "import matplotlib.pyplot as plt\n",
    "\n",
    "# Root directory of the project\n",
    "ROOT_DIR = os.path.abspath('')\n",
    "MEDIA_DIR = os.path.abspath('/media/disk2/amaltsev/car_lp_generator')\n",
    "\n",
    "# Import Mask RCNN\n",
    "sys.path.append(ROOT_DIR)  # To find local version of the library\n",
    "from mrcnn.config import Config\n",
    "from mrcnn import utils\n",
    "import mrcnn.model as modellib\n",
    "from mrcnn import visualize\n",
    "from mrcnn.model import log\n",
    "\n",
    "%matplotlib inline \n",
    "\n",
    "MODEL_DIR = os.path.join(MEDIA_DIR, 'model')"
   ]
  },
  {
   "cell_type": "code",
   "execution_count": 12,
   "metadata": {},
   "outputs": [
    {
     "name": "stdout",
     "output_type": "stream",
     "text": [
      "\n",
      "Configurations:\n",
      "BACKBONE                       resnet101\n",
      "BACKBONE_STRIDES               [4, 8, 16, 32, 64]\n",
      "BATCH_SIZE                     2\n",
      "BBOX_STD_DEV                   [0.1 0.1 0.2 0.2]\n",
      "COMPUTE_BACKBONE_SHAPE         None\n",
      "DETECTION_MAX_INSTANCES        5\n",
      "DETECTION_MIN_CONFIDENCE       0.7\n",
      "DETECTION_NMS_THRESHOLD        0.2\n",
      "FPN_CLASSIF_FC_LAYERS_SIZE     1024\n",
      "GPU_COUNT                      1\n",
      "GRADIENT_CLIP_NORM             5.0\n",
      "IMAGES_PER_GPU                 2\n",
      "IMAGE_CHANNEL_COUNT            3\n",
      "IMAGE_MAX_DIM                  1024\n",
      "IMAGE_META_SIZE                14\n",
      "IMAGE_MIN_DIM                  800\n",
      "IMAGE_MIN_SCALE                0\n",
      "IMAGE_RESIZE_MODE              square\n",
      "IMAGE_SHAPE                    [1024 1024    3]\n",
      "LEARNING_MOMENTUM              0.9\n",
      "LEARNING_RATE                  0.0002\n",
      "LOSS_WEIGHTS                   {'mrcnn_class_loss': 1.0, 'mrcnn_bbox_loss': 1.0, 'rpn_bbox_loss': 1.0, 'mrcnn_mask_loss': 1.0, 'rpn_class_loss': 1.0}\n",
      "MASK_POOL_SIZE                 14\n",
      "MASK_SHAPE                     [28, 28]\n",
      "MAX_GT_INSTANCES               5\n",
      "MEAN_PIXEL                     [123.7 116.8 103.9]\n",
      "MINI_MASK_SHAPE                (56, 56)\n",
      "NAME                           plates\n",
      "NUM_CLASSES                    2\n",
      "POOL_SIZE                      7\n",
      "POST_NMS_ROIS_INFERENCE        1000\n",
      "POST_NMS_ROIS_TRAINING         2000\n",
      "PRE_NMS_LIMIT                  6000\n",
      "ROI_POSITIVE_RATIO             0.33\n",
      "RPN_ANCHOR_RATIOS              [0.5, 1, 2]\n",
      "RPN_ANCHOR_SCALES              (32, 64, 128, 256, 512)\n",
      "RPN_ANCHOR_STRIDE              1\n",
      "RPN_BBOX_STD_DEV               [0.1 0.1 0.2 0.2]\n",
      "RPN_NMS_THRESHOLD              0.8\n",
      "RPN_TRAIN_ANCHORS_PER_IMAGE    256\n",
      "STEPS_PER_EPOCH                200\n",
      "TOP_DOWN_PYRAMID_SIZE          256\n",
      "TRAIN_BN                       False\n",
      "TRAIN_ROIS_PER_IMAGE           256\n",
      "USE_MINI_MASK                  True\n",
      "USE_RPN_ROIS                   True\n",
      "VALIDATION_STEPS               50\n",
      "WEIGHT_DECAY                   0.0001\n",
      "\n",
      "\n"
     ]
    }
   ],
   "source": [
    "class PlatesConfig(Config):\n",
    "    \"\"\"Configuration for training on the toy shapes dataset.\n",
    "    Derives from the base Config class and overrides values specific\n",
    "    to the toy shapes dataset.\n",
    "    \"\"\"\n",
    "    # Give the configuration a recognizable name\n",
    "    NAME = 'plates'\n",
    "    NUM_CLASSES = 1 + 1  # background + plate\n",
    "    GPU_COUNT = 1\n",
    "    IMAGES_PER_GPU = 2\n",
    "\n",
    "    LEARNING_RATE = 0.0002\n",
    "    STEPS_PER_EPOCH = 200\n",
    "    VALIDATION_STEPS = 50\n",
    "\n",
    "#     IMAGE_RESIZE_MODE = \"pad64\"\n",
    "#     IMAGE_MIN_DIM = 448 # None\n",
    "    IMAGE_MAX_DIM = 1024\n",
    "#     IMAGE_MIN_SCALE = None\n",
    "\n",
    "#     MEAN_PIXEL = np.array([123.7, 116.8, 103.9]) TODO\n",
    "\n",
    "    # How many anchors per image to use for RPN training\n",
    "    RPN_TRAIN_ANCHORS_PER_IMAGE = 256\n",
    "    # Non-max suppression threshold to filter RPN proposals.\n",
    "    RPN_NMS_THRESHOLD = 0.8  # 0.7\n",
    "    # Ratios of anchors at each cell (width/height)\n",
    "    RPN_ANCHOR_RATIOS = [0.5, 1,  2]\n",
    "\n",
    "    # Number of ROIs per image to feed to classifier/mask heads\n",
    "    TRAIN_ROIS_PER_IMAGE = 256\n",
    "\n",
    "    MAX_GT_INSTANCES = 5\n",
    "    DETECTION_MAX_INSTANCES = 5\n",
    "    DETECTION_MIN_CONFIDENCE = 0.7\n",
    "    DETECTION_NMS_THRESHOLD = 0.2  # 0.3\n",
    "\n",
    "\n",
    "config = PlatesConfig()\n",
    "config.display()"
   ]
  },
  {
   "cell_type": "code",
   "execution_count": 13,
   "metadata": {},
   "outputs": [],
   "source": [
    "def get_ax(rows=1, cols=1, size=8):\n",
    "    \"\"\"Return a Matplotlib Axes array to be used in\n",
    "    all visualizations in the notebook. Provide a\n",
    "    central point to control graph sizes.\n",
    "    \n",
    "    Change the default size attribute to control the size\n",
    "    of rendered images\n",
    "    \"\"\"\n",
    "    _, ax = plt.subplots(rows, cols, figsize=(size*cols, size*rows))\n",
    "    return ax"
   ]
  },
  {
   "cell_type": "code",
   "execution_count": 14,
   "metadata": {},
   "outputs": [],
   "source": [
    "class InferenceConfig(PlatesConfig):\n",
    "    GPU_COUNT = 1\n",
    "    IMAGES_PER_GPU = 1\n",
    "\n",
    "inference_config = InferenceConfig()\n",
    "\n",
    "# Recreate the model in inference mode\n",
    "model = modellib.MaskRCNN(mode='inference', \n",
    "                          config=inference_config,\n",
    "                          model_dir=MODEL_DIR)"
   ]
  },
  {
   "cell_type": "code",
   "execution_count": 15,
   "metadata": {},
   "outputs": [
    {
     "name": "stdout",
     "output_type": "stream",
     "text": [
      "Loading weights from  /media/disk2/amaltsev/car_lp_generator/model/mask_rcnn_plates_0060.h5\n"
     ]
    }
   ],
   "source": [
    "# Get path to saved weights\n",
    "# Either set a specific path or find last trained weights\n",
    "# model_path = os.path.join(ROOT_DIR, \".h5 file name here\")\n",
    "# model_path = model.find_last()\n",
    "model_path = os.path.join(MODEL_DIR, 'mask_rcnn_plates_0060.h5')\n",
    "\n",
    "# Load trained weights\n",
    "print(\"Loading weights from \", model_path)\n",
    "model.load_weights(model_path, by_name=True)"
   ]
  },
  {
   "cell_type": "markdown",
   "metadata": {},
   "source": [
    "# Plate removal"
   ]
  },
  {
   "cell_type": "code",
   "execution_count": 16,
   "metadata": {},
   "outputs": [],
   "source": [
    "def extend_mask(mask):\n",
    "    new_mask = mask.copy()\n",
    "    n = mask.shape[0]\n",
    "    m = mask.shape[1]\n",
    "    for i in range(n):\n",
    "        for j in range(m):\n",
    "            if mask[i][j]:\n",
    "                for ki in range(max(0, i - 4), min(n, i + 5)):\n",
    "                    for kj in range(max(0, j - 4), min(m, j + 5)):\n",
    "                        new_mask[ki][kj] = True\n",
    "    return new_mask"
   ]
  },
  {
   "cell_type": "code",
   "execution_count": 17,
   "metadata": {},
   "outputs": [],
   "source": [
    "def remove_object(img, mask):\n",
    "    n = img.shape[0]\n",
    "    m = img.shape[1]\n",
    "    new_img = img.copy()\n",
    "    for i in range(n):\n",
    "        for j in range(m):\n",
    "            if mask[i][j]:\n",
    "                sum_neighbours = [0, 0, 0]\n",
    "                num_neighbours = 0\n",
    "                for ki in range(max(0, i - 2), min(n, i + 3)):\n",
    "                    for kj in range(max(0, j - 2), min(m, j + 3)):\n",
    "                        if not mask[ki][kj]:\n",
    "                            sum_neighbours += new_img[ki][kj]\n",
    "                            num_neighbours += 1\n",
    "\n",
    "                new_img[i][j] = [s_i / num_neighbours for s_i in sum_neighbours]\n",
    "                mask[i][j] = False\n",
    "    return new_img"
   ]
  },
  {
   "cell_type": "code",
   "execution_count": null,
   "metadata": {},
   "outputs": [],
   "source": [
    "img_dir = os.path.join(MEDIA_DIR, 'frames_full')\n",
    "masks_dir = os.path.join(MEDIA_DIR, 'masks')\n",
    "counter = 0\n",
    "for img_name in sorted(os.listdir(masks_dir)):\n",
    "    if img_name.startswith('.'):\n",
    "        continue\n",
    "    if os.path.exists(os.path.join(MEDIA_DIR, 'removed_plates', img_name)):\n",
    "        continue\n",
    "    img = skimage.io.imread(os.path.join(img_dir, img_name))\n",
    "\n",
    "    counter += 1\n",
    "\n",
    "    mask = skimage.io.imread(os.path.join(MEDIA_DIR, 'masks', img_name), as_gray=True)\n",
    "    for i in range(mask.shape[0]):\n",
    "        for j in range(mask.shape[1]):\n",
    "            mask[i][j] = (mask[i][j] == 0)\n",
    "    \n",
    "    mask = extend_mask(mask)\n",
    "\n",
    "    removed = remove_object(img, mask)\n",
    "    skimage.io.imsave(os.path.join(MEDIA_DIR, 'removed_plates', img_name), removed)"
   ]
  },
  {
   "cell_type": "code",
   "execution_count": 9,
   "metadata": {},
   "outputs": [
    {
     "ename": "NameError",
     "evalue": "name 'results' is not defined",
     "output_type": "error",
     "traceback": [
      "\u001b[0;31m---------------------------------------------------------------------------\u001b[0m",
      "\u001b[0;31mNameError\u001b[0m                                 Traceback (most recent call last)",
      "\u001b[0;32m<ipython-input-9-bd034ddb1ec0>\u001b[0m in \u001b[0;36m<module>\u001b[0;34m\u001b[0m\n\u001b[1;32m      9\u001b[0m \u001b[0;31m#     results = model.detect([img], verbose=1)\u001b[0m\u001b[0;34m\u001b[0m\u001b[0;34m\u001b[0m\u001b[0m\n\u001b[1;32m     10\u001b[0m \u001b[0;34m\u001b[0m\u001b[0m\n\u001b[0;32m---> 11\u001b[0;31m     \u001b[0;32mif\u001b[0m \u001b[0mlen\u001b[0m\u001b[0;34m(\u001b[0m\u001b[0mresults\u001b[0m\u001b[0;34m)\u001b[0m \u001b[0;34m>\u001b[0m \u001b[0;36m0\u001b[0m \u001b[0;32mand\u001b[0m \u001b[0mlen\u001b[0m\u001b[0;34m(\u001b[0m\u001b[0mresults\u001b[0m\u001b[0;34m[\u001b[0m\u001b[0;36m0\u001b[0m\u001b[0;34m]\u001b[0m\u001b[0;34m[\u001b[0m\u001b[0;34m'rois'\u001b[0m\u001b[0;34m]\u001b[0m\u001b[0;34m)\u001b[0m \u001b[0;34m>\u001b[0m \u001b[0;36m0\u001b[0m\u001b[0;34m:\u001b[0m\u001b[0;34m\u001b[0m\u001b[0m\n\u001b[0m\u001b[1;32m     12\u001b[0m         \u001b[0mcounter\u001b[0m \u001b[0;34m+=\u001b[0m \u001b[0;36m1\u001b[0m\u001b[0;34m\u001b[0m\u001b[0m\n\u001b[1;32m     13\u001b[0m         \u001b[0mwhite_img\u001b[0m \u001b[0;34m=\u001b[0m \u001b[0mnp\u001b[0m\u001b[0;34m.\u001b[0m\u001b[0mones\u001b[0m\u001b[0;34m(\u001b[0m\u001b[0;34m[\u001b[0m\u001b[0mimg\u001b[0m\u001b[0;34m.\u001b[0m\u001b[0mshape\u001b[0m\u001b[0;34m[\u001b[0m\u001b[0;36m0\u001b[0m\u001b[0;34m]\u001b[0m\u001b[0;34m,\u001b[0m \u001b[0mimg\u001b[0m\u001b[0;34m.\u001b[0m\u001b[0mshape\u001b[0m\u001b[0;34m[\u001b[0m\u001b[0;36m1\u001b[0m\u001b[0;34m]\u001b[0m\u001b[0;34m,\u001b[0m \u001b[0;36m3\u001b[0m\u001b[0;34m]\u001b[0m\u001b[0;34m)\u001b[0m\u001b[0;34m\u001b[0m\u001b[0m\n",
      "\u001b[0;31mNameError\u001b[0m: name 'results' is not defined"
     ]
    }
   ],
   "source": [
    "img_dir = os.path.join(MEDIA_DIR, 'frames_full')\n",
    "counter = 0\n",
    "for img_name in sorted(os.listdir(img_dir)):\n",
    "    if img_name.startswith('.'):\n",
    "        continue\n",
    "#     if os.path.exists(os.path.join(MEDIA_DIR, 'removed_plates', img_name)):\n",
    "#         continue\n",
    "    img = skimage.io.imread(os.path.join(img_dir, img_name))\n",
    "    results = model.detect([img], verbose=1)\n",
    "\n",
    "    if len(results) > 0 and len(results[0]['rois']) > 0:\n",
    "        counter += 1\n",
    "        white_img = np.ones([img.shape[0], img.shape[1], 3])\n",
    "        white_img[:, :, :] *= 255\n",
    "        mask = results[0]['masks'][:, :, 0]\n",
    "        \n",
    "        mask = extend_mask(mask)\n",
    "\n",
    "        mask_img = visualize.apply_mask(white_img, mask, color=(0, 0, 0), alpha = 1)\n",
    "        removed = remove_object(img, mask)\n",
    "        # skimage.io.imsave(os.path.join(MEDIA_DIR, 'masks', img_name), mask_img)\n",
    "        skimage.io.imsave(os.path.join(MEDIA_DIR, 'removed_plates', img_name), removed)"
   ]
  },
  {
   "cell_type": "code",
   "execution_count": 2,
   "metadata": {},
   "outputs": [
    {
     "ename": "NameError",
     "evalue": "name 'os' is not defined",
     "output_type": "error",
     "traceback": [
      "\u001b[0;31m---------------------------------------------------------------------------\u001b[0m",
      "\u001b[0;31mNameError\u001b[0m                                 Traceback (most recent call last)",
      "\u001b[0;32m<ipython-input-2-b4c21229fc82>\u001b[0m in \u001b[0;36m<module>\u001b[0;34m\u001b[0m\n\u001b[1;32m     30\u001b[0m \u001b[0;34m\u001b[0m\u001b[0m\n\u001b[1;32m     31\u001b[0m \u001b[0;34m\u001b[0m\u001b[0m\n\u001b[0;32m---> 32\u001b[0;31m \u001b[0mimg_dir\u001b[0m \u001b[0;34m=\u001b[0m \u001b[0mos\u001b[0m\u001b[0;34m.\u001b[0m\u001b[0mpath\u001b[0m\u001b[0;34m.\u001b[0m\u001b[0mjoin\u001b[0m\u001b[0;34m(\u001b[0m\u001b[0mMEDIA_DIR\u001b[0m\u001b[0;34m,\u001b[0m \u001b[0;34m'plates'\u001b[0m\u001b[0;34m)\u001b[0m\u001b[0;34m\u001b[0m\u001b[0m\n\u001b[0m\u001b[1;32m     33\u001b[0m \u001b[0;34m\u001b[0m\u001b[0m\n\u001b[1;32m     34\u001b[0m \u001b[0mmodel_text\u001b[0m \u001b[0;34m=\u001b[0m \u001b[0mload_model\u001b[0m\u001b[0;34m(\u001b[0m\u001b[0;34m'/media/disk2/amaltsev/car_lp_generator/model/fs_adam_m2_dense_256_drop_03.h5'\u001b[0m\u001b[0;34m,\u001b[0m \u001b[0mcustom_objects\u001b[0m\u001b[0;34m=\u001b[0m\u001b[0;34m{\u001b[0m\u001b[0;34m'plate_loss'\u001b[0m\u001b[0;34m:\u001b[0m \u001b[0mplate_loss\u001b[0m\u001b[0;34m,\u001b[0m \u001b[0;34m'plate_acc'\u001b[0m\u001b[0;34m:\u001b[0m \u001b[0mplate_acc\u001b[0m\u001b[0;34m}\u001b[0m\u001b[0;34m)\u001b[0m\u001b[0;34m\u001b[0m\u001b[0m\n",
      "\u001b[0;31mNameError\u001b[0m: name 'os' is not defined"
     ]
    }
   ],
   "source": [
    "from __future__ import absolute_import, division, print_function, unicode_literals\n",
    "import tensorflow as tf\n",
    "from tensorflow import keras\n",
    "from tensorflow.keras.models import load_model\n",
    "\n",
    "# sys.argv = ['-h', '-g 2','-v 2.2.0']\n",
    "# from number_train import plate_loss\n",
    "\n",
    "def plate_loss(y_true, y_pred):\n",
    "    n = 9\n",
    "    y_pred = tf.transpose(y_pred, perm=[1, 0, 2])\n",
    "    y_true = tf.transpose(y_true, perm=[1, 0, 2])\n",
    "    losses = [tf.keras.losses.categorical_crossentropy(y_true[i], y_pred[i]) / n for i in range(n)]\n",
    "    total_loss = tf.math.reduce_sum(tf.convert_to_tensor(losses))\n",
    "    return total_loss\n",
    "\n",
    "def plate_acc(y_true, y_pred):\n",
    "    n = 9\n",
    "    y_pred = tf.transpose(y_pred, perm=[1, 0, 2])\n",
    "    y_true = tf.transpose(y_true, perm=[1, 0, 2])\n",
    "    acc_fn = tf.keras.metrics.CategoricalAccuracy()\n",
    "    acc = [acc_fn(y_true[i], y_pred[i]) / n for i in range(n)]\n",
    "    total_acc = tf.math.reduce_sum(tf.convert_to_tensor(acc))\n",
    "    return total_acc\n",
    "\n",
    "\n",
    "# config = tf.ConfigProto(intra_op_parallelism_threads=4, inter_op_parallelism_threads=4)\n",
    "# config.gpu_options.allow_growth = True\n",
    "# session = tf.Session(config=config)\n",
    "\n",
    "\n",
    "img_dir = os.path.join(MEDIA_DIR, 'plates')\n",
    "\n",
    "model_text = load_model('/media/disk2/amaltsev/car_lp_generator/model/fs_adam_m2_dense_256_drop_03.h5', custom_objects={'plate_loss': plate_loss, 'plate_acc': plate_acc})\n",
    "images = [[cv2.imread(os.path.join(img_dir, x)), x] for x in sorted(os.listdir(img_dir))]\n",
    "images = [img_i for img_i in images if img_i[0] is not None]\n",
    "imgs = [img[0] for img in images]\n",
    "for i in range(len(imgs)):\n",
    "    imgs[i] = cv2.resize(imgs[i], (160, 40))\n",
    "imgs = np.reshape(imgs, (len(imgs),) + imgs[0].shape)\n",
    "\n",
    "results = model_text.predict(imgs)"
   ]
  },
  {
   "cell_type": "code",
   "execution_count": null,
   "metadata": {},
   "outputs": [],
   "source": [
    "symbols = '0123456789ABCEHKMOPTXY_'\n",
    "for i in range(len(results)):\n",
    "    text = ''\n",
    "    for rj in results[i]:\n",
    "        if 1 in rj:\n",
    "            text += symbols[list(rj).index(1)]\n",
    "        else:\n",
    "            text += 'A'\n",
    "    cv2.imwrite(os.path.join(MEDIA_DIR, 'plates_text', images[i][1].split('.')[0] + '_' + text), images[i][0])"
   ]
  },
  {
   "cell_type": "code",
   "execution_count": null,
   "metadata": {},
   "outputs": [],
   "source": [
    "# img_dir = os.path.join(MEDIA_DIR, 'frames_full')\n",
    "# skip_counter = 0\n",
    "# for img_name in os.listdir(img_dir):\n",
    "#     skip_counter += 1\n",
    "#     if skip_counter < 370:\n",
    "#         continue\n",
    "#     img = skimage.io.imread(os.path.join(img_dir, img_name))\n",
    "#     results = model.detect([img], verbose=1)\n",
    "#     if len(results) > 0 and len(results[0]['rois']) > 0:\n",
    "#         roi = results[0]['rois'][0]\n",
    "#         plate = img[roi[0]:roi[2], roi[1]:roi[3], :]\n",
    "#         skimage.io.imsave(os.path.join(MEDIA_DIR, 'plates', img_name), plate)"
   ]
  },
  {
   "cell_type": "code",
   "execution_count": null,
   "metadata": {},
   "outputs": [],
   "source": [
    "        \n",
    "original_image = skimage.io.imread('/media/disk2/amaltsev/car_lp_generator/car_6895_mod.jpg')\n",
    "    \n",
    "plt.imshow(original_image)\n",
    "\n",
    "results = model.detect([original_image], verbose=1)\n",
    "\n",
    "r = results[0]\n",
    "print('rois:', r['rois'], 'masks:', r['masks'], 'class_ids:', r['class_ids'], 'scores:', r['scores'])\n",
    "print(r['masks'].shape)\n",
    "print(r['masks'][0:1].shape)\n",
    "\n",
    "# visualize.display_instances(original_image, r['rois'][0:1], r['masks'][:, :, 0:1], r['class_ids'][0:1], \n",
    "#                             [None, 'plate'], r['scores'][0:1], ax=get_ax())\n",
    "\n",
    "visualize.display_instances(original_image, r['rois'], r['masks'], r['class_ids'], \n",
    "                            [None, 'plate'], r['scores'], ax=get_ax())"
   ]
  },
  {
   "cell_type": "code",
   "execution_count": null,
   "metadata": {},
   "outputs": [],
   "source": []
  }
 ],
 "metadata": {
  "kernelspec": {
   "display_name": "env3",
   "language": "python",
   "name": "env3"
  },
  "language_info": {
   "codemirror_mode": {
    "name": "ipython",
    "version": 3
   },
   "file_extension": ".py",
   "mimetype": "text/x-python",
   "name": "python",
   "nbconvert_exporter": "python",
   "pygments_lexer": "ipython3",
   "version": "3.5.2"
  }
 },
 "nbformat": 4,
 "nbformat_minor": 4
}
