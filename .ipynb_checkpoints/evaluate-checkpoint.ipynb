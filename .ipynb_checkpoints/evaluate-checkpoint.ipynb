{
 "cells": [
  {
   "cell_type": "code",
   "execution_count": 5,
   "id": "15e85380-4519-4b1d-9f5d-687a7c175bef",
   "metadata": {},
   "outputs": [],
   "source": [
    "from skimage.measure import compare_ssim as ssim\n",
    "import cv2 as cv\n",
    "import os\n",
    "import csv\n",
    "import time"
   ]
  },
  {
   "cell_type": "code",
   "execution_count": 6,
   "id": "6f0b40e3-b6e8-4f4f-b137-7c5d62138e5d",
   "metadata": {},
   "outputs": [],
   "source": [
    "DATA_PATH = '/media/disk2/amaltsev/car_lp_generator'"
   ]
  },
  {
   "cell_type": "code",
   "execution_count": 15,
   "id": "49ed7ade-808a-4100-b29b-482f3708a1e4",
   "metadata": {},
   "outputs": [
    {
     "name": "stdout",
     "output_type": "stream",
     "text": [
      "0\n",
      "0.09251260757446289\n"
     ]
    },
    {
     "ename": "error",
     "evalue": "OpenCV(4.1.1) /io/opencv/modules/imgproc/src/resize.cpp:3720: error: (-215:Assertion failed) !ssize.empty() in function 'resize'\n",
     "output_type": "error",
     "traceback": [
      "\u001b[0;31m---------------------------------------------------------------------------\u001b[0m",
      "\u001b[0;31merror\u001b[0m                                     Traceback (most recent call last)",
      "\u001b[0;32m<ipython-input-15-5bf8322542ab>\u001b[0m in \u001b[0;36m<module>\u001b[0;34m\u001b[0m\n\u001b[1;32m     13\u001b[0m         \u001b[0mtransferred\u001b[0m \u001b[0;34m=\u001b[0m \u001b[0mcv\u001b[0m\u001b[0;34m.\u001b[0m\u001b[0mimread\u001b[0m\u001b[0;34m(\u001b[0m\u001b[0mos\u001b[0m\u001b[0;34m.\u001b[0m\u001b[0mpath\u001b[0m\u001b[0;34m.\u001b[0m\u001b[0mjoin\u001b[0m\u001b[0;34m(\u001b[0m\u001b[0mDATA_PATH\u001b[0m\u001b[0;34m,\u001b[0m \u001b[0;34m'transferred_ot'\u001b[0m\u001b[0;34m,\u001b[0m \u001b[0mimg_name\u001b[0m\u001b[0;34m)\u001b[0m\u001b[0;34m)\u001b[0m\u001b[0;34m\u001b[0m\u001b[0m\n\u001b[1;32m     14\u001b[0m \u001b[0;34m\u001b[0m\u001b[0m\n\u001b[0;32m---> 15\u001b[0;31m         \u001b[0mtransferred\u001b[0m \u001b[0;34m=\u001b[0m \u001b[0mcv\u001b[0m\u001b[0;34m.\u001b[0m\u001b[0mresize\u001b[0m\u001b[0;34m(\u001b[0m\u001b[0mtransferred\u001b[0m\u001b[0;34m,\u001b[0m \u001b[0;34m(\u001b[0m\u001b[0;36m256\u001b[0m\u001b[0;34m,\u001b[0m \u001b[0;36m256\u001b[0m\u001b[0;34m)\u001b[0m\u001b[0;34m)\u001b[0m\u001b[0;34m\u001b[0m\u001b[0m\n\u001b[0m\u001b[1;32m     16\u001b[0m \u001b[0;34m\u001b[0m\u001b[0m\n\u001b[1;32m     17\u001b[0m         \u001b[0ms\u001b[0m \u001b[0;34m=\u001b[0m \u001b[0mssim\u001b[0m\u001b[0;34m(\u001b[0m\u001b[0msrc\u001b[0m\u001b[0;34m,\u001b[0m \u001b[0mtransferred\u001b[0m\u001b[0;34m,\u001b[0m \u001b[0mmultichannel\u001b[0m\u001b[0;34m=\u001b[0m\u001b[0;32mTrue\u001b[0m\u001b[0;34m)\u001b[0m\u001b[0;34m\u001b[0m\u001b[0m\n",
      "\u001b[0;31merror\u001b[0m: OpenCV(4.1.1) /io/opencv/modules/imgproc/src/resize.cpp:3720: error: (-215:Assertion failed) !ssize.empty() in function 'resize'\n"
     ]
    }
   ],
   "source": [
    "ssim_sum = 0\n",
    "i = 0\n",
    "start_time = time.time()\n",
    "with open(os.path.join(DATA_PATH, 'ssim_ot.csv'), 'w', newline='') as csvfile:\n",
    "    fieldnames = ['Name', 'ssim']\n",
    "    ssimwriter = csv.DictWriter(csvfile, fieldnames=fieldnames)\n",
    "    ssimwriter.writerow({'Name': 'Name', 'ssim': 'ssim'})\n",
    "    for img_name in sorted(os.listdir(os.path.join(DATA_PATH, 'style_src_sq'))):\n",
    "        if img_name[0] == '.':\n",
    "            continue\n",
    "\n",
    "        src = cv.imread(os.path.join(DATA_PATH, 'style_src_sq', img_name))\n",
    "        transferred = cv.imread(os.path.join(DATA_PATH, 'transferred_ot', img_name))\n",
    "        \n",
    "        if transferred is None:\n",
    "            break\n",
    "        transferred = cv.resize(transferred, (256, 256))\n",
    "        \n",
    "        s = ssim(src, transferred, multichannel=True)\n",
    "        ssimwriter.writerow({'Name': img_name, 'ssim': s})\n",
    "        ssim_sum += s\n",
    "        \n",
    "        if i % 100 == 0:\n",
    "            print(i)\n",
    "            print(time.time() - start_time)\n",
    "        i += 1\n",
    "\n",
    "print('Average SSIM: ', ssim_sum / i)"
   ]
  },
  {
   "cell_type": "code",
   "execution_count": null,
   "id": "650635a5-0510-4638-ac41-9ad3ef3b76ed",
   "metadata": {},
   "outputs": [],
   "source": []
  }
 ],
 "metadata": {
  "kernelspec": {
   "display_name": "env3",
   "language": "python",
   "name": "env3"
  },
  "language_info": {
   "codemirror_mode": {
    "name": "ipython",
    "version": 3
   },
   "file_extension": ".py",
   "mimetype": "text/x-python",
   "name": "python",
   "nbconvert_exporter": "python",
   "pygments_lexer": "ipython3",
   "version": "3.5.2"
  }
 },
 "nbformat": 4,
 "nbformat_minor": 5
}
